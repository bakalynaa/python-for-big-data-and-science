{
  "nbformat": 4,
  "nbformat_minor": 0,
  "metadata": {
    "colab": {
      "provenance": []
    },
    "kernelspec": {
      "name": "python3",
      "display_name": "Python 3"
    },
    "language_info": {
      "name": "python"
    }
  },
  "cells": [
    {
      "cell_type": "markdown",
      "source": [
        "# I. OOP"
      ],
      "metadata": {
        "id": "5qV_sehzFCTp"
      }
    },
    {
      "cell_type": "markdown",
      "source": [
        "1. (6б). Створіть клас Building, додайте три атрибути, один з яких має значення за замовчуванням та два методи на свій розсуд."
      ],
      "metadata": {
        "id": "tx_U_hOALyfg"
      }
    },
    {
      "cell_type": "code",
      "source": [
        "class Building:\n",
        "    def __init__(self, address, floors, material=\"бетон\"):\n",
        "        self.address = address\n",
        "        self.floors = floors\n",
        "        self.material = material\n",
        "\n",
        "    def describe(self):\n",
        "        print(f\"Будівля знаходиться за адресою {self.address}.\")\n",
        "        print(f\"Кількість поверхів: {self.floors}\")\n",
        "        print(f\"Матеріал будівлі: {self.material}\")\n",
        "\n",
        "    def is_skyscraper(self):\n",
        "        return self.floors > 40"
      ],
      "metadata": {
        "id": "-Vf895KaL88N"
      },
      "execution_count": 5,
      "outputs": []
    },
    {
      "cell_type": "markdown",
      "source": [
        "2. (2б). Створіть два обʼєкти цього класу, де один з обʼєктів створюється із дефолтним значенням атрибуту. На одному обʼєкті отримайте значення його атрибуту, а на іншому викличте один з його методів."
      ],
      "metadata": {
        "id": "X_UlOMB0L93w"
      }
    },
    {
      "cell_type": "code",
      "source": [
        "building1 = Building(\"вул. Хрещатик, 10\", 8)\n",
        "building2 = Building(\"просп. Науки, 55\", 45, \"скло та сталь\")\n",
        "\n",
        "print(\"Матеріал будівлі 1:\", building1.material)\n",
        "\n",
        "building2.describe()"
      ],
      "metadata": {
        "id": "7gBu0ESOMCpG",
        "colab": {
          "base_uri": "https://localhost:8080/"
        },
        "outputId": "301cb58b-febb-4d91-df41-78f264e670f6"
      },
      "execution_count": 2,
      "outputs": [
        {
          "output_type": "stream",
          "name": "stdout",
          "text": [
            "Матеріал будівлі 1: бетон\n",
            "Будівля за адресою просп. Науки, 55 має 45 поверхів і побудована з скло та сталь.\n"
          ]
        }
      ]
    },
    {
      "cell_type": "markdown",
      "source": [
        "3. (5б). Створіть клас, де атрибути мають різні рівні доступу. Спробуйте отримати їхні значення та опишіть результати."
      ],
      "metadata": {
        "id": "HoqSCZt1MHn5"
      }
    },
    {
      "cell_type": "code",
      "source": [
        "class Car:\n",
        "    def __init__(self, brand, year, engine_code):\n",
        "        self.brand = brand\n",
        "        self._year = year\n",
        "        self.__engine_code = engine_code\n",
        "\n",
        "    def get_engine_code(self):\n",
        "        return self.__engine_code\n",
        "\n",
        "my_car = Car(\"Toyota\", 2020, \"ENG12345\")\n",
        "\n",
        "print(\"Бренд:\", my_car.brand)\n",
        "\n",
        "print(\"Рік випуску:\", my_car._year)\n",
        "\n",
        "print(\"Код двигуна:\", my_car.get_engine_code())\n",
        "\n",
        "print(\"Код двигуна (через name mangling):\", my_car._Car__engine_code)"
      ],
      "metadata": {
        "id": "r9b3vJxBMSPV",
        "colab": {
          "base_uri": "https://localhost:8080/"
        },
        "outputId": "e41007ef-adde-4ee0-c08b-40454d8f9ebe"
      },
      "execution_count": 4,
      "outputs": [
        {
          "output_type": "stream",
          "name": "stdout",
          "text": [
            "Бренд: Toyota\n",
            "Рік випуску: 2020\n",
            "Код двигуна: ENG12345\n",
            "Код двигуна (через name mangling): ENG12345\n"
          ]
        }
      ]
    },
    {
      "cell_type": "markdown",
      "source": [
        "4. (7б). Як ви розумієте термін self? Для чого використовується метод __init __?"
      ],
      "metadata": {
        "id": "5op2m2vgMSkZ"
      }
    },
    {
      "cell_type": "markdown",
      "source": [
        "self — це посилання на сам об'єкт, який створюється на основі класу.\n",
        "воно використовується всередині методів класу, щоб мати доступ до атрибутів та методів саме цього об'єкта.\n",
        "__init__ — це конструктор класу. він автоматично викликається, коли ви створюєте новий об’єкт."
      ],
      "metadata": {
        "id": "DyiPqNRvMasx"
      }
    },
    {
      "cell_type": "markdown",
      "source": [
        "5. (9б). Створіть клас 3D-фігура без атрибутів, з методом get_volume для отримання об'єму фігури, що повертає 0 та __add __, який приймає self та other в якості аргументів, а повертає суму об'ємів 3d-фігур self та other."
      ],
      "metadata": {
        "id": "-6X8EGfjMd2y"
      }
    },
    {
      "cell_type": "code",
      "source": [
        "class Shape3D:\n",
        "    def get_volume(self):\n",
        "        return 0\n",
        "\n",
        "    def __add__(self, other):\n",
        "        return self.get_volume() + other.get_volume()\n",
        "\n",
        "shape1 = Shape3D()\n",
        "shape2 = Shape3D()\n",
        "\n",
        "result = shape1 + shape2\n",
        "print(\"Сума об'ємів:\", result)"
      ],
      "metadata": {
        "id": "4rvO_wYUMaEr",
        "colab": {
          "base_uri": "https://localhost:8080/"
        },
        "outputId": "68ddb64a-5944-4b7c-9fcf-a3f850fcb0c7"
      },
      "execution_count": 6,
      "outputs": [
        {
          "output_type": "stream",
          "name": "stdout",
          "text": [
            "Сума об'ємів: 0\n"
          ]
        }
      ]
    },
    {
      "cell_type": "markdown",
      "source": [
        "6. (11б). Створіть 2 дочірніх класи від 3d-фігура: Циліндр та Куб, які мають атрибути, необхідні для розрахунку об'єму. Визначте метод get_volume в кожному з них так, щоби вони розраховували об'єм у залежності від формули для кожного типу фігури. Створіть обʼєкт класу Циліндр та обʼєкт класу Куб. Виконайте операцію суми за допомогою оператора + між ними, аби знайти сумарний об'єм."
      ],
      "metadata": {
        "id": "SFcKnnv5Mo_z"
      }
    },
    {
      "cell_type": "code",
      "source": [
        "import math\n",
        "\n",
        "class Shape3D:\n",
        "    def get_volume(self):\n",
        "        return 0\n",
        "\n",
        "    def __add__(self, other):\n",
        "        return self.get_volume() + other.get_volume()\n",
        "\n",
        "\n",
        "class Cylinder(Shape3D):\n",
        "    def __init__(self, radius, height):\n",
        "        self.radius = radius\n",
        "        self.height = height\n",
        "\n",
        "    def get_volume(self):\n",
        "        return math.pi * self.radius**2 * self.height\n",
        "\n",
        "\n",
        "class Cube(Shape3D):\n",
        "    def __init__(self, side):\n",
        "        self.side = side\n",
        "\n",
        "    def get_volume(self):\n",
        "        return self.side ** 3\n",
        "\n",
        "cyl = Cylinder(radius=3, height=5)\n",
        "cube = Cube(side=4)\n",
        "\n",
        "total_volume = cyl + cube\n",
        "print(\"Сумарний об'єм:\", total_volume)\n"
      ],
      "metadata": {
        "id": "H3GVNr69Muf3",
        "colab": {
          "base_uri": "https://localhost:8080/"
        },
        "outputId": "a3ae7b5c-cd5f-403e-a6fd-f10343b206c4"
      },
      "execution_count": 7,
      "outputs": [
        {
          "output_type": "stream",
          "name": "stdout",
          "text": [
            "Сумарний об'єм: 205.3716694115407\n"
          ]
        }
      ]
    },
    {
      "cell_type": "markdown",
      "source": [
        "7. (3б). Продемонструйте різницю між isinstance та issubclass."
      ],
      "metadata": {
        "id": "HCvR206YMvLK"
      }
    },
    {
      "cell_type": "code",
      "source": [
        "class Animal:\n",
        "    pass\n",
        "\n",
        "class Dog(Animal):\n",
        "    pass\n",
        "\n",
        "dog = Dog()\n",
        "\n",
        "print(isinstance(dog, Dog))\n",
        "print(isinstance(dog, Animal))\n",
        "print(isinstance(dog, object))\n",
        "\n",
        "print(issubclass(Dog, Animal))\n",
        "print(issubclass(Dog, object))\n",
        "print(issubclass(Animal, Dog))\n"
      ],
      "metadata": {
        "id": "L_V1bBvDM0GN",
        "colab": {
          "base_uri": "https://localhost:8080/"
        },
        "outputId": "2675e2ea-7dab-4988-bd27-f77c4719d4b7"
      },
      "execution_count": 8,
      "outputs": [
        {
          "output_type": "stream",
          "name": "stdout",
          "text": [
            "True\n",
            "True\n",
            "True\n",
            "True\n",
            "True\n",
            "False\n"
          ]
        }
      ]
    },
    {
      "cell_type": "markdown",
      "source": [
        "8. (13б). Створіть клас EWallet з приватними атрибутами balance та id. Реалізуйте методи поповнення та зняття коштів, забезпечивши належну інкапсуляцію. Підказка: використовуйте декоратори property та setter."
      ],
      "metadata": {
        "id": "jjsaBZ-iM0Qq"
      }
    },
    {
      "cell_type": "code",
      "source": [
        "class EWallet:\n",
        "    def __init__(self, id, balance=0):\n",
        "        self.__id = id\n",
        "        self.__balance = balance\n",
        "\n",
        "    @property\n",
        "    def balance(self):\n",
        "        return self.__balance\n",
        "\n",
        "    @balance.setter\n",
        "    def balance(self, amount):\n",
        "        if amount < 0:\n",
        "            print(\"Невірна сума. Баланс не може бути від'ємним!\")\n",
        "        else:\n",
        "            self.__balance = amount\n",
        "\n",
        "    def deposit(self, amount):\n",
        "        if amount > 0:\n",
        "            self.balance += amount\n",
        "            print(f\"Поповнено на {amount} одиниць.\")\n",
        "        else:\n",
        "            print(\"Поповнення має бути позитивним числом.\")\n",
        "\n",
        "    def withdraw(self, amount):\n",
        "        if amount > 0 and amount <= self.__balance:\n",
        "            self.balance -= amount\n",
        "            print(f\"Знято {amount} одиниць.\")\n",
        "        elif amount > self.__balance:\n",
        "            print(\"Недостатньо коштів для зняття.\")\n",
        "        else:\n",
        "            print(\"Сума зняття повинна бути позитивною.\")\n",
        "\n",
        "wallet = EWallet(id=\"12345\", balance=100)\n",
        "\n",
        "print(\"Баланс на рахунку:\", wallet.balance)\n",
        "\n",
        "wallet.deposit(50)\n",
        "wallet.withdraw(30)\n",
        "\n",
        "print(\"Оновлений баланс:\", wallet.balance)\n"
      ],
      "metadata": {
        "id": "xCvZ7lh8M7YA",
        "colab": {
          "base_uri": "https://localhost:8080/"
        },
        "outputId": "0015b222-9959-485d-d647-b2fedb0a5a7e"
      },
      "execution_count": 9,
      "outputs": [
        {
          "output_type": "stream",
          "name": "stdout",
          "text": [
            "Баланс на рахунку: 100\n",
            "Поповнено на 50 одиниць.\n",
            "Знято 30 одиниць.\n",
            "Оновлений баланс: 120\n"
          ]
        }
      ]
    },
    {
      "cell_type": "markdown",
      "source": [
        "9. (11б). Створіть клас ShoppingCart, який містить список об'єктів типу Item. Реалізуйте методи для додавання айтемів, їх видалення та відображення списку айтемів."
      ],
      "metadata": {
        "id": "tIzL2SJTM8ft"
      }
    },
    {
      "cell_type": "code",
      "source": [
        "class Item:\n",
        "    def __init__(self, name, price):\n",
        "        self.name = name\n",
        "        self.price = price\n",
        "\n",
        "    def __str__(self):\n",
        "        return f\"{self.name}: ${self.price}\"\n",
        "\n",
        "\n",
        "class ShoppingCart:\n",
        "    def __init__(self):\n",
        "        self.items = []\n",
        "\n",
        "    def add_item(self, item):\n",
        "        if isinstance(item, Item):\n",
        "            self.items.append(item)\n",
        "            print(f\"Товар {item.name} додано до кошика.\")\n",
        "        else:\n",
        "            print(\"Це не товар, не можна додати в кошик.\")\n",
        "\n",
        "    def remove_item(self, item_name):\n",
        "        for item in self.items:\n",
        "            if item.name == item_name:\n",
        "                self.items.remove(item)\n",
        "                print(f\"Товар {item_name} видалено з кошика.\")\n",
        "                return\n",
        "        print(f\"Товар {item_name} не знайдено в кошику.\")\n",
        "\n",
        "    def display_items(self):\n",
        "        if not self.items:\n",
        "            print(\"Кошик порожній.\")\n",
        "        else:\n",
        "            print(\"Товари в кошику:\")\n",
        "            for item in self.items:\n",
        "                print(item)\n",
        "\n",
        "    def total_price(self):\n",
        "        total = sum(item.price for item in self.items)\n",
        "        print(f\"Загальна вартість: ${total}\")\n",
        "\n",
        "\n",
        "item1 = Item(\"Ноутбук\", 1200)\n",
        "item2 = Item(\"Мишка\", 25)\n",
        "item3 = Item(\"Клавіатура\", 50)\n",
        "\n",
        "cart = ShoppingCart()\n",
        "\n",
        "cart.add_item(item1)\n",
        "cart.add_item(item2)\n",
        "cart.add_item(item3)\n",
        "\n",
        "cart.display_items()\n",
        "\n",
        "cart.total_price()\n",
        "\n",
        "cart.remove_item(\"Мишка\")\n",
        "\n",
        "cart.display_items()\n",
        "\n",
        "cart.total_price()\n"
      ],
      "metadata": {
        "id": "HWxfJKLtNAUZ",
        "colab": {
          "base_uri": "https://localhost:8080/"
        },
        "outputId": "fe4761c4-9744-4847-bd12-3b5a709076aa"
      },
      "execution_count": 10,
      "outputs": [
        {
          "output_type": "stream",
          "name": "stdout",
          "text": [
            "Товар Ноутбук додано до кошика.\n",
            "Товар Мишка додано до кошика.\n",
            "Товар Клавіатура додано до кошика.\n",
            "Товари в кошику:\n",
            "Ноутбук: $1200\n",
            "Мишка: $25\n",
            "Клавіатура: $50\n",
            "Загальна вартість: $1275\n",
            "Товар Мишка видалено з кошика.\n",
            "Товари в кошику:\n",
            "Ноутбук: $1200\n",
            "Клавіатура: $50\n",
            "Загальна вартість: $1250\n"
          ]
        }
      ]
    },
    {
      "cell_type": "markdown",
      "source": [
        "10. (13б). Створіть клас Vehicle з атрибутами brand (manufacturer) та production_age. Створіть ще один клас Engine з такими атрибутами, як type (ex. petrol) та size (volume, litres). Створіть клас Car, який успадковує обидва класи Vehicle та Engine. Продемонструйте використання множинної спадковості, створивши обʼєкт класу Car та отримавши mro для цього класу."
      ],
      "metadata": {
        "id": "lmV8pAwwNIqu"
      }
    },
    {
      "cell_type": "code",
      "source": [
        "class Vehicle:\n",
        "    def __init__(self, brand, production_age):\n",
        "        self.brand = brand\n",
        "        self.production_age = production_age\n",
        "\n",
        "    def display_info(self):\n",
        "        print(f\"Виробник: {self.brand}\")\n",
        "        print(f\"Вік виробництва: {self.production_age} років\")\n",
        "\n",
        "\n",
        "class Engine:\n",
        "    def __init__(self, type, size):\n",
        "        self.type = type\n",
        "        self.size = size\n",
        "\n",
        "    def display_engine_info(self):\n",
        "        print(f\"Тип пального: {self.type}\")\n",
        "        print(f\"Об'єм двигуна: {self.size} літрів\")\n",
        "\n",
        "\n",
        "class Car(Vehicle, Engine):\n",
        "    def __init__(self, brand, production_age, type, size):\n",
        "        Vehicle.__init__(self, brand, production_age)\n",
        "        Engine.__init__(self, type, size)\n",
        "\n",
        "    def display_car_info(self):\n",
        "        self.display_info()\n",
        "        self.display_engine_info()\n",
        "\n",
        "\n",
        "car = Car(brand=\"Toyota\", production_age=5, type=\"Petrol\", size=2.0)\n",
        "\n",
        "car.display_car_info()\n",
        "\n",
        "print(\"\\nMRO для класу Car:\", Car.mro())\n"
      ],
      "metadata": {
        "id": "R49grKlWNPeN",
        "colab": {
          "base_uri": "https://localhost:8080/"
        },
        "outputId": "754c8ade-fd22-4696-ecee-fe19bf0f673d"
      },
      "execution_count": 11,
      "outputs": [
        {
          "output_type": "stream",
          "name": "stdout",
          "text": [
            "Виробник: Toyota\n",
            "Вік виробництва: 5 років\n",
            "Тип пального: Petrol\n",
            "Об'єм двигуна: 2.0 літрів\n",
            "\n",
            "MRO для класу Car: [<class '__main__.Car'>, <class '__main__.Vehicle'>, <class '__main__.Engine'>, <class 'object'>]\n"
          ]
        }
      ]
    },
    {
      "cell_type": "markdown",
      "source": [
        "# II. Iterator"
      ],
      "metadata": {
        "id": "dIJyUiNBFG8G"
      }
    },
    {
      "cell_type": "markdown",
      "source": [
        "11. (4б). Визначте рядок(str) з 4ма різними за значенням символами. Створіть ітератор на основі цього рядка. Викличте 5 разів функцію next на ітераторі, 4ри перших з них огорніть у ф-цію print()."
      ],
      "metadata": {
        "id": "13vsm0NyKIzL"
      }
    },
    {
      "cell_type": "code",
      "source": [
        "s = \"abcd\"\n",
        "\n",
        "iterator = iter(s)\n",
        "\n",
        "for i in range(5):\n",
        "    try:\n",
        "        if i < 4:\n",
        "            print(next(iterator))\n",
        "        else:\n",
        "            next(iterator)\n",
        "    except StopIteration:\n",
        "        print(\"Ітератор завершився.\")\n",
        "        break"
      ],
      "metadata": {
        "id": "81ntabAkKuz-",
        "colab": {
          "base_uri": "https://localhost:8080/"
        },
        "outputId": "f8c69133-468b-4e6f-f188-2b2f93ef5bd8"
      },
      "execution_count": 12,
      "outputs": [
        {
          "output_type": "stream",
          "name": "stdout",
          "text": [
            "a\n",
            "b\n",
            "c\n",
            "d\n",
            "Ітератор завершився.\n"
          ]
        }
      ]
    },
    {
      "cell_type": "markdown",
      "source": [
        "А що якщо викликати цю ж функцію на рядку?"
      ],
      "metadata": {
        "id": "aekWHGXOLRsO"
      }
    },
    {
      "cell_type": "code",
      "source": [
        "s = \"abcd\"\n",
        "\n",
        "iterator = iter(s)\n",
        "\n",
        "for i in range(5):\n",
        "    try:\n",
        "        if i < 4:\n",
        "            print(next(iterator))\n",
        "        else:\n",
        "            next(iterator)\n",
        "    except StopIteration:\n",
        "        print(\"Ітератор завершився.\")\n",
        "        break"
      ],
      "metadata": {
        "id": "mxATGsErLV1i",
        "colab": {
          "base_uri": "https://localhost:8080/"
        },
        "outputId": "c45e29aa-2d4b-4f49-8bc7-4e6266950121"
      },
      "execution_count": 16,
      "outputs": [
        {
          "output_type": "stream",
          "name": "stdout",
          "text": [
            "a\n",
            "b\n",
            "c\n",
            "d\n",
            "Ітератор завершився.\n"
          ]
        }
      ]
    },
    {
      "cell_type": "markdown",
      "source": [
        " 12. (5б). Опишіть своїми словами в одному реченні, як ви розумієте різницю між ітерабельними обʼєктами та ітераторами (можна на прикладі)."
      ],
      "metadata": {
        "id": "XwtMEopwJ4pH"
      }
    },
    {
      "cell_type": "markdown",
      "source": [
        "Ітерабельний об'єкт — це об'єкт, з якого можна отримати ітератор (наприклад, список або рядок), а ітератор — це об'єкт, який реалізує методи __iter__() і __next__(), що дозволяють послідовно отримувати елементи з ітерабельного об'єкта, поки не буде досягнуто кінця."
      ],
      "metadata": {
        "id": "-sHrODc3KFn8"
      }
    },
    {
      "cell_type": "markdown",
      "source": [
        "13. (11б). Створіть клас, що має визначений Iterator Protocol та при кожному виклику next повертає назву дня тижня, поки вони не вичерпаються. Зверніть увагу, що порядок має значення."
      ],
      "metadata": {
        "id": "E9qJWmNbK8Gl"
      }
    },
    {
      "cell_type": "code",
      "source": [
        "class WeekdaysIterator:\n",
        "    def __init__(self):\n",
        "        self.days_of_week = [\"Понеділок\", \"Вівторок\", \"Середа\", \"Четвер\", \"П'ятниця\", \"Субота\", \"Неділя\"]\n",
        "        self.index = 0\n",
        "\n",
        "    def __iter__(self):\n",
        "        return self\n",
        "\n",
        "    def __next__(self):\n",
        "        if self.index < len(self.days_of_week):\n",
        "            day = self.days_of_week[self.index]\n",
        "            self.index += 1\n",
        "            return day\n",
        "        else:\n",
        "            raise StopIteration\n",
        "\n",
        "weekdays = WeekdaysIterator()\n",
        "\n",
        "for day in weekdays:\n",
        "    print(day)"
      ],
      "metadata": {
        "id": "cqx-g_RsLo6I",
        "colab": {
          "base_uri": "https://localhost:8080/"
        },
        "outputId": "accfe437-0098-4cf4-cc60-75e38f288813"
      },
      "execution_count": 17,
      "outputs": [
        {
          "output_type": "stream",
          "name": "stdout",
          "text": [
            "Понеділок\n",
            "Вівторок\n",
            "Середа\n",
            "Четвер\n",
            "П'ятниця\n",
            "Субота\n",
            "Неділя\n"
          ]
        }
      ]
    },
    {
      "cell_type": "markdown",
      "source": [
        "# Вітаю! Ви велика(ий) молодець, що впоралась(вся). Похваліть себе та побалуйте чимось приємним. Я Вами пишаюся."
      ],
      "metadata": {
        "id": "Z3E3S_s1Fv7-"
      }
    }
  ]
}